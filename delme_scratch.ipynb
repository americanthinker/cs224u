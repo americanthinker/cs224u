{
 "cells": [
  {
   "cell_type": "code",
   "execution_count": 2,
   "id": "e6f22432-e6d6-4384-9684-d3e8740bccb3",
   "metadata": {},
   "outputs": [],
   "source": [
    "import torch.nn as nn\n",
    "\n",
    "class Encoder(nn.Module):\n",
    "    def __init__(self, color_dim, hidden_dim):\n",
    "        \"\"\"\n",
    "        Simple Encoder model based on a GRU cell.\n",
    "\n",
    "        Parameters\n",
    "        ----------\n",
    "        color_dim : int\n",
    "\n",
    "        hidden_dim : int\n",
    "\n",
    "        \"\"\"\n",
    "        super().__init__()\n",
    "        self.color_dim = color_dim\n",
    "        self.hidden_dim = hidden_dim\n",
    "        self.rnn = nn.GRU(\n",
    "            input_size=self.color_dim,\n",
    "            hidden_size=self.hidden_dim,\n",
    "            batch_first=True)"
   ]
  },
  {
   "cell_type": "code",
   "execution_count": 13,
   "id": "f1670103-2f82-463f-a014-c1cbc65a0cb4",
   "metadata": {},
   "outputs": [],
   "source": [
    "def listener_predictions(self, color_seqs, word_seqs, device=None):\n",
    "    gold = []\n",
    "    predicted = []\n",
    "    correct = 0\n",
    "    for color_seq, word_seq in zip(color_seqs, word_seqs):\n",
    "        target_index = len(color_seq) - 1\n",
    "        min_perp, pred, pred_index = self.listener_predict_one(\n",
    "            color_seq, word_seq, device=device)\n",
    "        gold.append(target_index)\n",
    "        predicted.append(pred_index)\n",
    "    return gold, predicted"
   ]
  },
  {
   "cell_type": "code",
   "execution_count": 26,
   "id": "20e2580d-1f5e-4783-9165-b8838df40db4",
   "metadata": {},
   "outputs": [
    {
     "data": {
      "text/plain": [
       "[([array([0.50044321, 0.53957182]),\n",
       "   array([0.88611464, 0.98794238]),\n",
       "   array([0.10714762, 0.05733771])],\n",
       "  ['<s>', 'A', 'B', '</s>']),\n",
       " ([array([0.50487708, 0.44819377]),\n",
       "   array([0.92395617, 0.85048364]),\n",
       "   array([0.03585337, 0.18360977])],\n",
       "  ['<s>', 'A', '</s>']),\n",
       " ([array([0.41580385, 0.59185956]),\n",
       "   array([0.89179955, 0.84864158]),\n",
       "   array([0.07088822, 0.15898727])],\n",
       "  ['<s>', 'A', 'B', '</s>']),\n",
       " ([array([0.56561242, 0.41612338]),\n",
       "   array([0.99833494, 0.92997889]),\n",
       "   array([0.13944726, 0.05999493])],\n",
       "  ['<s>', 'A', '</s>']),\n",
       " ([array([0.47543391, 0.49520102]),\n",
       "   array([0.92734962, 0.94056903]),\n",
       "   array([0.0063369 , 0.08105566])],\n",
       "  ['<s>', 'A', 'B', '</s>'])]"
      ]
     },
     "execution_count": 26,
     "metadata": {},
     "output_type": "execute_result"
    }
   ],
   "source": [
    "list(zip(seqs, ans))"
   ]
  },
  {
   "cell_type": "code",
   "execution_count": 16,
   "id": "748a3588-52d1-4b5e-92f9-a291d5109097",
   "metadata": {},
   "outputs": [],
   "source": [
    "seqs = [[array([0.50044321, 0.53957182]),\n",
    "  array([0.88611464, 0.98794238]),\n",
    "  array([0.10714762, 0.05733771])],\n",
    " [array([0.50487708, 0.44819377]),\n",
    "  array([0.92395617, 0.85048364]),\n",
    "  array([0.03585337, 0.18360977])],\n",
    " [array([0.41580385, 0.59185956]),\n",
    "  array([0.89179955, 0.84864158]),\n",
    "  array([0.07088822, 0.15898727])],\n",
    " [array([0.56561242, 0.41612338]),\n",
    "  array([0.99833494, 0.92997889]),\n",
    "  array([0.13944726, 0.05999493])],\n",
    " [array([0.47543391, 0.49520102]),\n",
    "  array([0.92734962, 0.94056903]),\n",
    "  array([0.0063369 , 0.08105566])]]"
   ]
  },
  {
   "cell_type": "code",
   "execution_count": 18,
   "id": "e785b79c-fa96-4d17-90ea-78902dfa998e",
   "metadata": {},
   "outputs": [],
   "source": [
    "ans = [['<s>', 'A', 'B', '</s>'],\n",
    " ['<s>', 'A', '</s>'],\n",
    " ['<s>', 'A', 'B', '</s>'],\n",
    " ['<s>', 'A', '</s>'],\n",
    " ['<s>', 'A', 'B', '</s>']]"
   ]
  },
  {
   "cell_type": "code",
   "execution_count": 19,
   "id": "ed3fd6d0-2efd-405a-b262-df235d2943f6",
   "metadata": {},
   "outputs": [
    {
     "data": {
      "text/plain": [
       "[['<s>', 'A', 'B', '</s>'],\n",
       " ['<s>', 'A', '</s>'],\n",
       " ['<s>', 'A', 'B', '</s>'],\n",
       " ['<s>', 'A', '</s>'],\n",
       " ['<s>', 'A', 'B', '</s>']]"
      ]
     },
     "execution_count": 19,
     "metadata": {},
     "output_type": "execute_result"
    }
   ],
   "source": [
    "ans"
   ]
  },
  {
   "cell_type": "code",
   "execution_count": 24,
   "id": "4c301c08-baff-462a-a148-ebb12424e7d5",
   "metadata": {},
   "outputs": [
    {
     "name": "stdout",
     "output_type": "stream",
     "text": [
      "[0.10714762 0.05733771] ['<s>', 'A', 'B', '</s>']\n",
      "[0.03585337 0.18360977] ['<s>', 'A', '</s>']\n",
      "[0.07088822 0.15898727] ['<s>', 'A', 'B', '</s>']\n",
      "[0.13944726 0.05999493] ['<s>', 'A', '</s>']\n",
      "[0.0063369  0.08105566] ['<s>', 'A', 'B', '</s>']\n"
     ]
    }
   ],
   "source": [
    "for i, seq in enumerate(seqs):\n",
    "    print(seq[2], ans[i])"
   ]
  },
  {
   "cell_type": "code",
   "execution_count": null,
   "id": "e84af3b2-fb1a-4306-b54f-1c72bf0a9adc",
   "metadata": {},
   "outputs": [],
   "source": []
  }
 ],
 "metadata": {
  "kernelspec": {
   "display_name": "Python 3",
   "language": "python",
   "name": "python3"
  },
  "language_info": {
   "codemirror_mode": {
    "name": "ipython",
    "version": 3
   },
   "file_extension": ".py",
   "mimetype": "text/x-python",
   "name": "python",
   "nbconvert_exporter": "python",
   "pygments_lexer": "ipython3",
   "version": "3.8.5"
  }
 },
 "nbformat": 4,
 "nbformat_minor": 5
}
