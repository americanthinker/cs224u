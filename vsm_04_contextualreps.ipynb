{
 "cells": [
  {
   "cell_type": "markdown",
   "metadata": {},
   "source": [
    "# Vector-space models: Static representations from contextual models"
   ]
  },
  {
   "cell_type": "code",
   "execution_count": 1,
   "metadata": {},
   "outputs": [],
   "source": [
    "__author__ = \"Christopher Potts\"\n",
    "__version__ = \"CS224u, Stanford, Spring 2021\""
   ]
  },
  {
   "cell_type": "markdown",
   "metadata": {},
   "source": [
    "## Contents\n",
    "\n",
    "1. [Overview](#Overview)\n",
    "1. [General set-up](#General-set-up)\n",
    "1. [Loading Transformer models](#Loading-Transformer-models)\n",
    "1. [The basics of tokenizing](#The-basics-of-tokenizing)\n",
    "1. [The basics of representations](#The-basics-of-representations)\n",
    "1. [The decontextualized approach](#The-decontextualized-approach)\n",
    "  1. [Basic example](#Basic-example)\n",
    "  1. [Creating a full VSM](#Creating-a-full-VSM)\n",
    "1. [The aggregated approach](#The-aggregated-approach)\n",
    "1. [Some related work](#Some-related-work)"
   ]
  },
  {
   "cell_type": "markdown",
   "metadata": {},
   "source": [
    "## Overview\n",
    "\n"
   ]
  },
  {
   "cell_type": "markdown",
   "metadata": {},
   "source": [
    "Can we get good static representations of words from models (like BERT) that supply only contextual representations? On the one hand, contextual models are very successful across a wide range of tasks, in large part because they are trained for a long time on a lot of data. This should be a boon for VSMs as we've designed them so far. On the other hand, the goal of having static representations might seem to be at odds with how these models process examples and represent examples. Part of the point is to obtain different representations for words depending on the context in which they occur, and a hallmark of the training procedure is that it processes sequences rather than individual words.\n",
    "\n",
    "[Bommasani et al. (2020)](https://www.aclweb.org/anthology/2020.acl-main.431) make a significant step forward in our understanding of these issues. Ultimately, they arrive at a positive answer: excellent static word representations can be obtained from contextual models. They explore two strategies for achieving this:\n",
    "\n",
    "1. __The decontextualized approach__: just process individual words as though they were isolated texts. Where a word consists of multiple tokens in the model, pool them with a function like mean or max.\n",
    "1. __The aggregrated approach__: process lots and lots of texts containing the words of interest. As before, pool sub-word tokens, and also pool across all the pooled representations.\n",
    "\n",
    "As Bommasani et al. say, the decontextualized approach \"presents an unnatural input\" – these models were not trained on individual words, but rather on longer sequences, so the individual words are infrequent kinds of inputs at best (and unattested as far as the model is concerned if the special boundary tokens [CLS] and [SEP] are not included). However, in practice, Bommasani et al. achieve very impressive results with this approach on word similarity/relatedness tasks.\n",
    "\n",
    "The aggregrated approach is even better, but it requires more work and involves more decisions relating to which texts are processed.\n",
    "\n",
    "This notebook briefly explores both of these approaches, with the goal of making it easy for you to apply these methods in [the associated homework and bakeoff](hw_wordrelatedness.ipynb)."
   ]
  },
  {
   "cell_type": "markdown",
   "metadata": {},
   "source": [
    "## General set-up\n",
    "\n"
   ]
  },
  {
   "cell_type": "code",
   "execution_count": 8,
   "metadata": {},
   "outputs": [],
   "source": [
    "import os\n",
    "import pandas as pd\n",
    "import numpy as np\n",
    "import torch\n",
    "from transformers import BertModel, BertTokenizer\n",
    "from transformers import RobertaModel, RobertaTokenizer\n",
    "\n",
    "import utils\n",
    "import vsm"
   ]
  },
  {
   "cell_type": "code",
   "execution_count": 9,
   "metadata": {},
   "outputs": [],
   "source": [
    "DATA_HOME = os.path.join('data', 'vsmdata')"
   ]
  },
  {
   "cell_type": "code",
   "execution_count": 10,
   "metadata": {},
   "outputs": [],
   "source": [
    "utils.fix_random_seeds()"
   ]
  },
  {
   "cell_type": "markdown",
   "metadata": {},
   "source": [
    "The `transformers` library does a lot of logging. To avoid ending up with a cluttered notebook, I am changing the logging level. You might want to skip this as you scale up to building production systems, since the logging is very good – it gives you a lot of insights into what the models and code are doing."
   ]
  },
  {
   "cell_type": "code",
   "execution_count": 12,
   "metadata": {},
   "outputs": [],
   "source": [
    "import logging\n",
    "logger = logging.getLogger()\n",
    "logger.level = logging.ERROR"
   ]
  },
  {
   "cell_type": "markdown",
   "metadata": {},
   "source": [
    "## Loading Transformer models\n",
    "\n",
    "To start, let's get a feel for the basic API that `transformers` provides. The first step is specifying the pretrained parameters we'll be using:"
   ]
  },
  {
   "cell_type": "code",
   "execution_count": 20,
   "metadata": {},
   "outputs": [],
   "source": [
    "bert_weights_name = 'bert-base-uncased'"
   ]
  },
  {
   "cell_type": "markdown",
   "metadata": {},
   "source": [
    "There are lots other options for pretrained weights. See [this Hugging Face directory](https://huggingface.co/models)."
   ]
  },
  {
   "cell_type": "markdown",
   "metadata": {},
   "source": [
    "Next, we specify a tokenizer and a model that match both each other and our choice of pretrained weights:"
   ]
  },
  {
   "cell_type": "code",
   "execution_count": 21,
   "metadata": {},
   "outputs": [],
   "source": [
    "bert_tokenizer = BertTokenizer.from_pretrained(bert_weights_name)\n",
    "\n",
    "bert_model = BertModel.from_pretrained(bert_weights_name)"
   ]
  },
  {
   "cell_type": "markdown",
   "metadata": {},
   "source": [
    "## The basics of tokenizing"
   ]
  },
  {
   "cell_type": "markdown",
   "metadata": {},
   "source": [
    "It's illuminating to see what the tokenizer does to example texts:"
   ]
  },
  {
   "cell_type": "code",
   "execution_count": 23,
   "metadata": {},
   "outputs": [],
   "source": [
    "example_text = \"Bert knows Snuffleupagus\""
   ]
  },
  {
   "cell_type": "markdown",
   "metadata": {},
   "source": [
    "Simple tokenization:"
   ]
  },
  {
   "cell_type": "code",
   "execution_count": 24,
   "metadata": {},
   "outputs": [
    {
     "data": {
      "text/plain": [
       "['bert', 'knows', 's', '##nu', '##ffle', '##up', '##ag', '##us']"
      ]
     },
     "execution_count": 24,
     "metadata": {},
     "output_type": "execute_result"
    }
   ],
   "source": [
    "bert_tokenizer.tokenize(example_text)"
   ]
  },
  {
   "cell_type": "markdown",
   "metadata": {},
   "source": [
    "The `encode` method maps individual strings to indices into the underlying embedding used by the model:"
   ]
  },
  {
   "cell_type": "code",
   "execution_count": 25,
   "metadata": {},
   "outputs": [
    {
     "data": {
      "text/plain": [
       "[101, 14324, 4282, 1055, 11231, 18142, 6279, 8490, 2271, 102]"
      ]
     },
     "execution_count": 25,
     "metadata": {},
     "output_type": "execute_result"
    }
   ],
   "source": [
    "ex_ids = bert_tokenizer.encode(example_text, add_special_tokens=True)\n",
    "\n",
    "ex_ids"
   ]
  },
  {
   "cell_type": "markdown",
   "metadata": {},
   "source": [
    "We can get a better feel for what these representations are like by mapping the indices back to \"words\":"
   ]
  },
  {
   "cell_type": "code",
   "execution_count": 26,
   "metadata": {},
   "outputs": [
    {
     "data": {
      "text/plain": [
       "['[CLS]',\n",
       " 'bert',\n",
       " 'knows',\n",
       " 's',\n",
       " '##nu',\n",
       " '##ffle',\n",
       " '##up',\n",
       " '##ag',\n",
       " '##us',\n",
       " '[SEP]']"
      ]
     },
     "execution_count": 26,
     "metadata": {},
     "output_type": "execute_result"
    }
   ],
   "source": [
    "bert_tokenizer.convert_ids_to_tokens(ex_ids)"
   ]
  },
  {
   "cell_type": "markdown",
   "metadata": {},
   "source": [
    "Those are all the essential ingredients for working with these parameters in Hugging Face. Of course, the library has a lot of other functionality, but the above suffices for our current application."
   ]
  },
  {
   "cell_type": "markdown",
   "metadata": {},
   "source": [
    "## The basics of representations"
   ]
  },
  {
   "cell_type": "markdown",
   "metadata": {},
   "source": [
    "To obtain the representations for a batch of examples, we use the `forward` method of the model, as follows:"
   ]
  },
  {
   "cell_type": "code",
   "execution_count": 27,
   "metadata": {},
   "outputs": [],
   "source": [
    "with torch.no_grad():\n",
    "    reps = bert_model(torch.tensor([ex_ids]), output_hidden_states=True)"
   ]
  },
  {
   "cell_type": "code",
   "execution_count": 36,
   "metadata": {},
   "outputs": [
    {
     "name": "stdout",
     "output_type": "stream",
     "text": [
      "Hidden Shape 1:    torch.Size([1, 10, 768])\n",
      "Hidden Shape 2:    torch.Size([1, 10, 768])\n",
      "Hidden Shape 3:    torch.Size([1, 10, 768])\n",
      "Hidden Shape 4:    torch.Size([1, 10, 768])\n",
      "Hidden Shape 5:    torch.Size([1, 10, 768])\n",
      "Hidden Shape 6:    torch.Size([1, 10, 768])\n",
      "Hidden Shape 7:    torch.Size([1, 10, 768])\n",
      "Hidden Shape 8:    torch.Size([1, 10, 768])\n",
      "Hidden Shape 9:    torch.Size([1, 10, 768])\n",
      "Hidden Shape 10:    torch.Size([1, 10, 768])\n",
      "Hidden Shape 11:    torch.Size([1, 10, 768])\n",
      "Hidden Shape 12:    torch.Size([1, 10, 768])\n",
      "Hidden Shape 13:    torch.Size([1, 10, 768])\n"
     ]
    }
   ],
   "source": [
    "for index, hs in enumerate(reps.hidden_states, 1):\n",
    "    shape = hs.shape\n",
    "    print(f'Hidden Shape {index}:    {shape}')"
   ]
  },
  {
   "cell_type": "markdown",
   "metadata": {},
   "source": [
    "The return value `reps` is a special `transformers` class that holds a lot of representations. If we want just the final output representations for each token, we use `last_hidden_state`:"
   ]
  },
  {
   "cell_type": "markdown",
   "metadata": {},
   "source": [
    "The shape indicates that our batch has 1 example, with 10 tokens, and each token is represented by a vector of dimensionality 768. "
   ]
  },
  {
   "cell_type": "markdown",
   "metadata": {},
   "source": [
    "Aside: Hugging Face `transformers` models also have a `pooler_output` value. For BERT, this corresponds to the output representation above the [CLS] token, which is often used as a summary representation for the entire sequence. However, __we cannot use `pooler_output` in the current context__, as `transformers` adds new randomized parameters on top of it, to facilitate fine-tuning. If we want the [CLS] representation, we need to use `reps.last_hidden_state[:, 0]`."
   ]
  },
  {
   "cell_type": "markdown",
   "metadata": {},
   "source": [
    "Finally, if we want access to the output representations from each layer of the model, we use `hidden_states`. This will be `None` unless we set `output_hidden_states=True` when using the `forward` method, as above. "
   ]
  },
  {
   "cell_type": "code",
   "execution_count": 38,
   "metadata": {},
   "outputs": [
    {
     "data": {
      "text/plain": [
       "13"
      ]
     },
     "execution_count": 38,
     "metadata": {},
     "output_type": "execute_result"
    }
   ],
   "source": [
    "len(reps.hidden_states)"
   ]
  },
  {
   "cell_type": "markdown",
   "metadata": {},
   "source": [
    "The length 13 corresponds to the initial embedding layer (layer 0) and the 12 layers of this BERT model."
   ]
  },
  {
   "cell_type": "markdown",
   "metadata": {},
   "source": [
    "The final layer in `hidden_states` is identical to `last_hidden_state`:"
   ]
  },
  {
   "cell_type": "code",
   "execution_count": 39,
   "metadata": {},
   "outputs": [
    {
     "data": {
      "text/plain": [
       "torch.Size([1, 10, 768])"
      ]
     },
     "execution_count": 39,
     "metadata": {},
     "output_type": "execute_result"
    }
   ],
   "source": [
    "reps.hidden_states[-1].shape"
   ]
  },
  {
   "cell_type": "code",
   "execution_count": 40,
   "metadata": {},
   "outputs": [
    {
     "data": {
      "text/plain": [
       "True"
      ]
     },
     "execution_count": 40,
     "metadata": {},
     "output_type": "execute_result"
    }
   ],
   "source": [
    "torch.equal(reps.hidden_states[-1], reps.last_hidden_state)"
   ]
  },
  {
   "cell_type": "markdown",
   "metadata": {},
   "source": [
    "## The decontextualized approach\n",
    "\n",
    "As discussed above, Bommasani et al. (2020) define and explore two general strategies for obtaining static representations for word using a model like BERT. The simpler one involves processing individual words and, where they correspond to multiple tokens, pooling those token representations into a single vector using an operation like mean."
   ]
  },
  {
   "cell_type": "markdown",
   "metadata": {},
   "source": [
    "### Basic example"
   ]
  },
  {
   "cell_type": "markdown",
   "metadata": {},
   "source": [
    "To begin to see what this is like in practice, we'll use the method `vsm.hf_encode`, which maps texts to their ids, taking care to use `unk_token` for texts that can't otherwise be processed by the model."
   ]
  },
  {
   "cell_type": "markdown",
   "metadata": {},
   "source": [
    "Where a word corresponds to just one token in the vocabulary, it will get mapped to a single id:"
   ]
  },
  {
   "cell_type": "code",
   "execution_count": 43,
   "metadata": {},
   "outputs": [],
   "source": [
    "token = bert_tokenizer.tokenize('puppy')"
   ]
  },
  {
   "cell_type": "code",
   "execution_count": 47,
   "metadata": {},
   "outputs": [
    {
     "data": {
      "text/plain": [
       "list"
      ]
     },
     "execution_count": 47,
     "metadata": {},
     "output_type": "execute_result"
    }
   ],
   "source": [
    "type(bert_tokenizer.encode(token))"
   ]
  },
  {
   "cell_type": "code",
   "execution_count": 48,
   "metadata": {},
   "outputs": [
    {
     "data": {
      "text/plain": [
       "tensor([[17022]])"
      ]
     },
     "execution_count": 48,
     "metadata": {},
     "output_type": "execute_result"
    }
   ],
   "source": [
    "vsm.hf_encode(\"puppy\", bert_tokenizer)"
   ]
  },
  {
   "cell_type": "markdown",
   "metadata": {},
   "source": [
    "As we saw above, some words map to multiple tokens:"
   ]
  },
  {
   "cell_type": "code",
   "execution_count": 49,
   "metadata": {},
   "outputs": [
    {
     "data": {
      "text/plain": [
       "['s', '##nu', '##ffle', '##up', '##ag', '##us']"
      ]
     },
     "execution_count": 49,
     "metadata": {},
     "output_type": "execute_result"
    }
   ],
   "source": [
    "bert_tokenizer.tokenize('snuffleupagus')"
   ]
  },
  {
   "cell_type": "code",
   "execution_count": 50,
   "metadata": {},
   "outputs": [
    {
     "data": {
      "text/plain": [
       "tensor([[ 1055, 11231, 18142,  6279,  8490,  2271]])"
      ]
     },
     "execution_count": 50,
     "metadata": {},
     "output_type": "execute_result"
    }
   ],
   "source": [
    "subtok_ids = vsm.hf_encode(\"snuffleupagus\", bert_tokenizer)\n",
    "\n",
    "subtok_ids"
   ]
  },
  {
   "cell_type": "markdown",
   "metadata": {},
   "source": [
    "Next, the function `vsm.hf_represent` will map a batch of ids to their representations in a user-supplied model, at a specified layer in that model:"
   ]
  },
  {
   "cell_type": "code",
   "execution_count": 52,
   "metadata": {},
   "outputs": [
    {
     "data": {
      "text/plain": [
       "torch.Size([1, 6, 768])"
      ]
     },
     "execution_count": 52,
     "metadata": {},
     "output_type": "execute_result"
    }
   ],
   "source": [
    "subtok_reps = vsm.hf_represent(subtok_ids, bert_model, layer=-1)\n",
    "\n",
    "subtok_reps.shape"
   ]
  },
  {
   "cell_type": "markdown",
   "metadata": {},
   "source": [
    "The shape here: 1 example containing 6 (sub-word) tokens, each of dimension 768. With `layer=-1`, we obtain the final output repreentation from the entire model."
   ]
  },
  {
   "cell_type": "markdown",
   "metadata": {},
   "source": [
    "The final step is to pool together the 6 tokens. Here, we can use a variety of operations; [Bommasani et al. 2020](https://www.aclweb.org/anthology/2020.acl-main.431) find that `mean` is the best overall:"
   ]
  },
  {
   "cell_type": "code",
   "execution_count": 65,
   "metadata": {
    "collapsed": true,
    "jupyter": {
     "outputs_hidden": true
    },
    "tags": []
   },
   "outputs": [
    {
     "data": {
      "text/plain": [
       "tensor([[ 3.0305e-01,  1.2634e-01, -3.9157e-02,  2.0512e-01,  2.6558e-01,\n",
       "         -1.2169e-01, -3.4225e-01,  4.1502e-01,  7.5906e-03, -5.5434e-01,\n",
       "         -1.0319e-01, -3.4334e-01, -7.7310e-03,  1.3106e-01, -5.8204e-01,\n",
       "          1.1481e+00, -5.0384e-01,  2.8346e-01,  1.4319e-01, -2.1976e-01,\n",
       "          2.9822e-01, -2.7246e-01, -1.5947e-01,  1.5184e-01,  6.7372e-02,\n",
       "          8.4873e-02,  5.6771e-01,  2.9787e-01, -1.9576e-01, -5.6074e-01,\n",
       "          2.5558e-02,  2.9466e-01,  1.6190e-01, -4.2745e-02,  2.3723e-01,\n",
       "          1.1799e-02,  2.4137e-01, -2.0017e-01,  8.8115e-02, -5.4736e-01,\n",
       "         -5.7943e-01, -3.8881e-01, -2.0147e-01, -4.8178e-02, -1.5158e-01,\n",
       "         -1.3919e-01,  1.7402e-01, -3.7898e-02,  2.4982e-01, -9.3894e-01,\n",
       "         -7.7487e-01,  5.4588e-01,  5.8069e-01, -1.0230e-01, -2.4828e-02,\n",
       "          3.5637e-01, -1.9554e-01, -5.5180e-01, -1.0707e-02,  1.3795e-01,\n",
       "          1.9116e-01, -3.3160e-01,  1.0020e-01,  9.2630e-02, -2.2284e-01,\n",
       "          5.5217e-01, -1.3917e-01,  2.8437e-01, -8.7217e-02, -7.0677e-01,\n",
       "          1.9250e-01,  1.8343e-01, -3.8064e-01, -3.5104e-01,  1.3349e-01,\n",
       "          4.3234e-01, -3.1116e-01,  4.3265e-01,  1.8466e-01,  3.5366e-01,\n",
       "         -2.1936e-01,  6.0357e-01, -7.8518e-02,  2.3340e-01,  3.3213e-01,\n",
       "          5.4832e-03, -5.0088e-01,  1.9053e-01, -4.3038e-02,  6.7374e-01,\n",
       "         -2.4431e-02, -5.0171e-01,  4.6569e-01,  1.0376e-01,  5.7404e-01,\n",
       "          6.7572e-02, -2.6596e-01, -1.8045e-01,  1.2376e-01,  4.7493e-01,\n",
       "         -1.6110e-01, -3.6219e-01,  2.2838e-02, -2.7926e-01, -8.7499e-01,\n",
       "          1.3245e-01, -3.5285e-01, -7.8804e-01, -1.9685e-01,  2.5547e-01,\n",
       "          1.0117e+00,  4.5591e-01, -5.2837e-01, -1.8313e-01, -2.3212e-01,\n",
       "          5.2174e-01,  2.5879e-01,  3.1847e-01, -2.9393e-02,  4.4692e-01,\n",
       "         -4.2829e-01,  1.3348e-01,  3.2244e-01,  3.1360e-01,  7.9231e-01,\n",
       "          7.0730e-01, -4.8650e-02,  8.7942e-02,  2.3506e-02,  1.2930e-01,\n",
       "          3.4981e-01,  4.2194e-01,  3.8389e-01, -1.4894e-01, -1.1639e-01,\n",
       "          4.9437e-02, -9.0350e-02, -6.2202e-02,  8.8049e-02, -4.5430e-01,\n",
       "         -1.5157e-01,  9.5320e-01,  2.7048e-01, -1.4910e-01,  2.7303e-01,\n",
       "          1.0379e-01, -2.2016e-01, -7.7890e-01,  1.4452e-02, -1.3300e-01,\n",
       "         -4.6747e-01, -1.7420e-02, -3.8410e-01,  5.3284e-01,  1.4496e-01,\n",
       "         -3.3650e-01, -1.2825e-01, -7.6639e-02, -2.4475e-01, -6.5366e-02,\n",
       "         -2.6599e-01,  1.5353e-01,  1.6219e-01,  1.6939e-01,  6.4171e-01,\n",
       "         -3.5212e-01, -2.3844e-01,  4.8929e-02, -2.7937e-01,  6.9702e-03,\n",
       "         -2.4437e-01, -7.1681e-01,  5.2082e-01, -2.0507e-01,  3.2377e-01,\n",
       "         -3.4711e-01,  2.6256e-01, -3.4775e-01,  3.7993e-01,  6.7081e-01,\n",
       "         -3.1525e-01,  3.2396e-01, -8.6369e-02,  8.0647e-02, -4.1046e-01,\n",
       "          3.6319e-01,  2.1884e-01,  1.3724e-01,  8.3896e-01,  9.5107e-01,\n",
       "         -1.1438e+00,  4.6534e-01, -5.1645e-02, -5.8526e-03,  4.5732e-01,\n",
       "          5.0237e-02, -5.1975e-01,  7.5138e-01,  3.0219e-01,  5.3304e-02,\n",
       "          2.4837e-01, -1.5588e-01,  8.0021e-01,  2.7945e-02,  5.4242e-03,\n",
       "          3.0255e-01, -1.2128e-01,  7.6901e-03, -4.4451e-01, -2.5399e-01,\n",
       "         -2.0285e-01,  5.4266e-01,  1.5304e-01, -1.2820e-01, -1.6093e-02,\n",
       "         -4.0774e-01, -6.9975e-02, -8.1844e-02,  5.2516e-01,  1.2143e-01,\n",
       "          3.9555e-03, -3.1942e-01,  1.4222e-01, -7.7836e-02, -2.6736e-01,\n",
       "          9.3307e-01,  4.7447e-01, -1.2039e-01,  1.9655e-01, -2.6249e-01,\n",
       "          1.4714e-01, -4.3626e-01,  2.6387e-01, -3.9516e-02,  5.8116e-02,\n",
       "         -3.0419e-01, -6.2465e-01, -3.0384e-01,  8.1865e-01, -3.4876e-01,\n",
       "         -3.0303e-01,  1.2264e-03, -4.0963e-01,  2.1105e-04, -4.0057e-01,\n",
       "         -3.1491e-01,  3.7980e-01,  3.0757e-01,  1.0413e-02,  8.5140e-02,\n",
       "         -4.9345e-01, -3.2624e-02,  7.5239e-02, -6.2990e-01,  2.6472e-01,\n",
       "         -5.2226e-01,  2.5186e-01, -3.0298e-01,  2.7660e-01,  3.3309e-01,\n",
       "         -5.1671e-02,  4.3762e-01,  5.4114e-01,  2.0867e-01, -5.6451e-01,\n",
       "         -2.4688e-01, -4.9758e-01, -2.1373e-01,  1.1558e-01,  3.0572e-01,\n",
       "          4.5159e-01,  1.3476e-01, -4.3294e-01,  4.8066e-01, -3.3865e-02,\n",
       "          3.9965e-01,  2.3931e-01, -9.1762e-02, -2.3285e-02,  6.1322e-01,\n",
       "          1.6523e-01,  4.4399e-01, -1.7247e-02,  2.5987e-01, -7.9111e-01,\n",
       "         -4.0564e-01,  7.5210e-01,  3.3760e-01, -3.1116e-01, -2.1559e-01,\n",
       "          5.1646e-01, -2.3843e-02, -3.1401e-01,  6.7540e-02,  4.7745e-01,\n",
       "          2.9596e-01,  1.9636e-01,  4.1961e-01, -4.3300e-01, -5.4714e-02,\n",
       "         -3.5118e-01,  2.4775e-01,  4.1735e-01,  3.3378e-01,  9.5160e-02,\n",
       "          1.8203e-01,  5.8224e-02, -1.3681e-01, -5.8297e+00, -1.8818e-01,\n",
       "          1.8377e-01, -5.3909e-03,  6.2065e-02, -1.4358e-01, -1.5621e-01,\n",
       "         -1.1981e-01, -4.1587e-01,  1.9789e-01,  2.6401e-01,  2.7529e-01,\n",
       "          5.5171e-02, -2.4245e-01,  2.8083e-01, -6.6856e-03, -3.8253e-01,\n",
       "          9.1296e-02, -4.7088e-02,  4.6854e-01, -2.8510e-01,  3.1458e-01,\n",
       "          4.2357e-01,  2.0770e-01,  1.6288e-01, -2.1949e-01, -4.7060e-01,\n",
       "         -1.4628e-01, -3.9944e-01, -9.3504e-02,  3.1324e-01, -6.9368e-01,\n",
       "         -6.6966e-03, -2.7808e-01,  4.7657e-02, -8.4630e-02,  7.4757e-01,\n",
       "         -4.9815e-01,  3.5680e-01, -3.8489e-01, -4.0316e-01, -6.8913e-01,\n",
       "         -4.0307e-01, -1.3830e-01,  5.3926e-02,  2.9449e-01,  4.1908e-01,\n",
       "         -3.1627e-01, -8.9724e-02,  6.0459e-01, -2.6074e-02, -8.3180e-02,\n",
       "          6.8637e-02, -2.0728e-01,  3.2545e-01,  9.7259e-01, -2.7489e-01,\n",
       "          9.2062e-01, -6.6985e-02, -6.4529e-02,  2.2443e-01,  5.1478e-01,\n",
       "         -8.5685e-01, -1.8931e-01, -1.8912e-01, -1.3516e-01, -8.1483e-01,\n",
       "          1.6066e-01,  2.7173e-01, -4.8978e-02, -7.3284e-01, -2.0872e-01,\n",
       "          1.9670e-01, -7.2097e-01,  1.0642e-01, -6.9857e-01,  2.2833e-01,\n",
       "          9.0799e-02,  3.4959e-01,  4.0140e-01, -8.0933e-01, -8.3074e-01,\n",
       "          1.0949e-03,  9.9158e-03,  1.0479e-01, -4.4695e-01, -1.4219e-01,\n",
       "         -9.2295e-01, -1.4569e-01, -3.5006e-01,  5.3712e-01,  3.7174e-01,\n",
       "          9.9531e-03,  5.1471e-01,  4.2845e-01,  4.2518e-01,  1.4323e-01,\n",
       "         -2.5252e-01,  1.8681e-02, -2.6955e-01,  3.1998e-01,  6.6642e-02,\n",
       "         -1.2872e-01, -2.4226e-01,  1.8447e-01, -1.0645e-01, -8.2203e-01,\n",
       "          3.9775e-01,  6.9254e-02, -2.3631e-01,  5.3418e-01, -1.9809e-01,\n",
       "          1.8091e-01,  1.3724e-01,  1.8132e-01,  2.6604e-02,  4.4208e-01,\n",
       "          2.8416e-01,  2.6001e-01, -4.4867e-01, -3.0806e-01,  4.4649e-01,\n",
       "         -3.7959e-01, -3.4245e-01, -2.4598e-01,  1.7719e-01, -1.2518e-01,\n",
       "         -4.3838e-01, -2.1586e-01, -1.4459e-01, -3.1522e-01, -6.6886e-01,\n",
       "         -1.2992e-01, -6.5468e-02,  3.1566e-01, -1.3755e-01, -8.0040e-01,\n",
       "         -2.0279e-01, -3.5673e-01,  1.9205e-01, -1.8189e-01,  4.3419e-01,\n",
       "         -3.0364e-01,  7.4729e-02,  6.8771e-01, -2.2741e-01,  1.0752e-01,\n",
       "          7.0733e-02, -3.0459e-01,  6.8791e-02,  1.2345e-01, -9.7673e-02,\n",
       "          2.0681e-01, -3.0390e-02,  4.0184e-01,  2.8277e-01,  3.3503e-01,\n",
       "          1.6758e-01,  2.3960e-01, -5.8328e-01,  1.1054e-01,  3.1229e-02,\n",
       "         -2.6281e-01,  6.1913e-02, -4.6971e-01,  9.7647e-01, -1.7908e-01,\n",
       "          1.0504e-01,  5.3274e-02, -5.3407e-01, -4.8262e-01,  1.1446e-01,\n",
       "         -2.5704e-01, -2.1686e-01, -4.7048e-01,  9.3233e-01, -1.5640e-01,\n",
       "         -2.6305e-01, -3.9469e-01,  5.6301e-01, -1.3579e-01,  3.1331e-01,\n",
       "          3.7142e-02, -7.2948e-02,  1.9632e-01, -3.8119e-01,  5.2077e-01,\n",
       "         -1.2579e-01, -4.6071e-01,  1.3543e-02, -8.5977e-02, -3.4830e-02,\n",
       "          2.5394e-01, -8.4806e-02, -9.5514e-02, -4.6114e-01,  1.2587e-02,\n",
       "         -1.4182e-01, -1.1369e-01,  8.4824e-02,  9.0601e-02, -2.6671e-01,\n",
       "         -2.1565e-01,  6.8751e-02, -2.1226e-01, -9.6216e-02, -2.2128e-01,\n",
       "         -2.4270e-01, -3.1273e-01,  2.9854e-02, -1.4767e-02, -4.4271e-01,\n",
       "         -1.2627e-01, -1.5089e-01,  9.7265e-02, -7.4861e-01, -3.7178e-02,\n",
       "         -1.7559e-01,  2.3091e-01,  1.7897e-01, -5.3409e-02, -3.6324e-01,\n",
       "          5.5651e-01,  6.8036e-02,  8.6665e-02, -4.5513e-02, -4.5574e-01,\n",
       "         -7.4433e-01,  4.1059e-01,  1.9469e-01, -2.2593e-01, -6.4534e-01,\n",
       "          1.6583e-01, -3.8933e-01,  2.3571e-02,  4.8055e-02, -9.3946e-01,\n",
       "         -5.0414e-01,  1.4406e-01, -1.6929e-01,  2.4614e-01,  7.6839e-02,\n",
       "          2.0187e-01, -3.9664e-01,  5.6212e-02, -3.9110e-01,  4.2443e-01,\n",
       "         -2.1254e-01, -1.4285e-02,  1.4855e-01,  6.7496e-02, -5.5820e-01,\n",
       "          3.1255e-01, -4.0114e-01,  1.4627e-02, -1.2841e-01, -4.5814e-01,\n",
       "         -3.7041e-01, -4.4049e-01,  3.7611e-01, -1.3819e-01,  1.0461e-01,\n",
       "         -5.2932e-01,  2.9170e-01, -2.0521e-01,  1.2039e-01,  1.9825e-01,\n",
       "         -3.4652e-01,  5.0668e-01, -4.0552e-01,  2.5345e-01, -1.0741e-01,\n",
       "          5.6245e-02,  1.5240e-01,  2.1785e-01, -1.6120e-01, -2.6165e-01,\n",
       "          4.9526e-02,  4.9192e-01,  4.2315e-03, -3.9249e-01,  3.0651e-01,\n",
       "         -1.2114e-01,  3.4331e-01,  1.1323e-01,  2.9296e-01,  4.0215e-02,\n",
       "          2.8549e-01, -2.0732e-01,  2.4758e-01, -2.6215e-02,  7.0039e-01,\n",
       "         -5.0886e-01, -5.3940e-02,  2.3248e-01,  5.7590e-01,  4.6557e-02,\n",
       "          2.3055e-01, -2.9920e-02, -3.2267e-01,  8.3854e-02, -5.8517e-02,\n",
       "          1.1431e+00, -8.6245e-02,  3.1252e-01,  3.8129e-01, -2.1149e-01,\n",
       "         -5.5656e-03,  1.9388e-01, -1.5980e-01,  3.4999e-02, -4.5316e-01,\n",
       "          3.3853e-01,  5.1064e-01,  2.4189e-01,  8.8008e-03, -4.9180e-03,\n",
       "         -3.8572e-01, -6.4009e-02, -1.7915e-01,  1.9179e-01,  1.8883e-01,\n",
       "          6.4311e-01, -1.3200e-01, -2.6159e-01, -4.1013e-01, -8.6565e-02,\n",
       "         -1.2940e-01,  3.7666e-02, -5.8418e-02,  1.7794e-01, -1.3728e-01,\n",
       "          4.3135e-01,  1.3076e-01, -6.3525e-02, -5.2227e-02,  5.0078e-01,\n",
       "         -2.7101e-01,  5.5521e-02,  7.7319e-01, -1.5476e-02, -1.1579e-01,\n",
       "          1.7767e-01, -5.1018e-02,  8.2109e-01,  3.5763e-01,  1.4224e-01,\n",
       "         -2.3302e-02,  3.0088e-01,  3.5359e-01,  2.3916e-01,  5.2083e-01,\n",
       "         -1.1991e-01,  7.0308e-02, -5.3259e-01, -2.8617e-01,  4.2374e-01,\n",
       "          1.1278e-01,  2.0638e-02,  1.5072e-01,  5.9652e-02,  3.5667e-01,\n",
       "          1.9758e-01, -4.7569e-01,  1.6732e-02, -5.8968e-02,  7.0410e-01,\n",
       "          3.7598e-01,  3.3150e-02,  3.5544e-01,  9.8206e-02,  1.0064e-01,\n",
       "         -7.7055e-02,  3.9862e-01, -4.4485e-01, -2.9236e-01, -4.4736e-01,\n",
       "          1.8861e-01,  1.0902e-01, -6.3106e-02, -3.7051e-01, -9.0091e-02,\n",
       "          3.5457e-03, -1.2745e-01,  1.1143e-01, -4.0786e-01, -2.9520e-01,\n",
       "          1.1100e-02, -3.8454e-01, -7.1164e-01, -1.8066e-01, -4.2656e-01,\n",
       "         -4.2830e-02, -3.2639e-01, -2.9954e-01,  1.8402e-02,  4.2488e-01,\n",
       "          1.2252e-01,  3.6768e-01,  6.6556e-02, -6.9049e-02,  4.6364e-01,\n",
       "          1.7739e-01,  1.5926e-01,  4.2309e-01,  1.2219e-01,  3.3808e-01,\n",
       "          6.7256e-01, -6.0712e-01, -3.3716e-01,  4.5554e-01,  2.0073e-01,\n",
       "         -3.0178e-01,  5.8137e-01, -4.3493e-01, -3.2096e-01,  1.0183e+00,\n",
       "         -3.4472e-01, -1.8931e-01, -3.1518e-01, -3.5426e-01,  3.8309e-02,\n",
       "          5.0897e-02,  1.3969e-01, -1.9431e-01,  1.3226e-01, -2.8662e-01,\n",
       "          3.0708e-02, -4.7492e-01,  5.5286e-02, -3.4538e-01, -1.6190e-01,\n",
       "         -5.8438e-03,  5.7107e-01, -1.3789e-01, -2.9549e-01, -1.0006e-02,\n",
       "          1.5524e-02,  4.0856e-01,  2.0440e-02,  2.6277e-01, -1.4450e-01,\n",
       "         -5.4852e-01, -1.8763e-01,  3.7205e-01,  2.9242e-01,  1.5808e-01,\n",
       "         -2.8595e-01, -1.0869e+00, -3.7034e-02, -1.1644e-01, -6.0890e-01,\n",
       "          1.9843e-01, -4.9910e-01,  2.2038e-01, -1.1643e-01, -9.5875e-01,\n",
       "          9.2396e-02, -2.5909e-01,  2.6990e-01]])"
      ]
     },
     "execution_count": 65,
     "metadata": {},
     "output_type": "execute_result"
    }
   ],
   "source": [
    "mean_tensor = torch.mean(subtok_reps, axis=1)\n",
    "mean_tensor"
   ]
  },
  {
   "cell_type": "code",
   "execution_count": 66,
   "metadata": {},
   "outputs": [
    {
     "data": {
      "text/plain": [
       "torch.Size([1, 768])"
      ]
     },
     "execution_count": 66,
     "metadata": {},
     "output_type": "execute_result"
    }
   ],
   "source": [
    "subtok_pooled = vsm.mean_pooling(subtok_reps)\n",
    "\n",
    "subtok_pooled.shape"
   ]
  },
  {
   "cell_type": "markdown",
   "metadata": {},
   "source": [
    "The function `vsm.mean_pooling` is simple `torch.mean` with `axis=1`. There are also predefined functions `vsm.max_pooling`, `vsm.min_pooling`, and `vsm.last_pooling` (representation for the final token)."
   ]
  },
  {
   "cell_type": "markdown",
   "metadata": {},
   "source": [
    "### Creating a full VSM\n",
    "\n",
    "Now we want to scale the above process to a large vocabulary, so that we can create a full VSM. The function `vsm.create_subword_pooling_vsm` makes this easy. To start, we get the vocabulary from one of our count VSMs (all of which have the same vocabulary):"
   ]
  },
  {
   "cell_type": "code",
   "execution_count": 78,
   "metadata": {},
   "outputs": [],
   "source": [
    "vsm_index = pd.read_csv(\n",
    "    os.path.join(DATA_HOME, 'yelp_window5-scaled.csv.gz'),\n",
    "    usecols=[0], index_col=0)"
   ]
  },
  {
   "cell_type": "code",
   "execution_count": 79,
   "metadata": {},
   "outputs": [],
   "source": [
    "vocab = list(vsm_index.index)"
   ]
  },
  {
   "cell_type": "code",
   "execution_count": 80,
   "metadata": {},
   "outputs": [
    {
     "data": {
      "text/plain": [
       "['):', ');', '..', '...', ':(']"
      ]
     },
     "execution_count": 80,
     "metadata": {},
     "output_type": "execute_result"
    }
   ],
   "source": [
    "vocab[: 5]"
   ]
  },
  {
   "cell_type": "markdown",
   "metadata": {},
   "source": [
    "And then we use `vsm.create_subword_pooling_vsm`:"
   ]
  },
  {
   "cell_type": "code",
   "execution_count": 81,
   "metadata": {},
   "outputs": [
    {
     "name": "stdout",
     "output_type": "stream",
     "text": [
      "CPU times: user 3min 3s, sys: 11.7 s, total: 3min 14s\n",
      "Wall time: 3min 6s\n"
     ]
    }
   ],
   "source": [
    "%%time\n",
    "pooled_df = vsm.create_subword_pooling_vsm(\n",
    "    vocab, bert_tokenizer, bert_model, layer=1)"
   ]
  },
  {
   "cell_type": "markdown",
   "metadata": {},
   "source": [
    "The result, `pooled_df`, is a `pd.DataFrame` with its index given by `vocab`. This can be used directly in the word relatedness evaluations that are central the homework and associated bakeoff."
   ]
  },
  {
   "cell_type": "code",
   "execution_count": 82,
   "metadata": {},
   "outputs": [
    {
     "data": {
      "text/plain": [
       "(6000, 768)"
      ]
     },
     "execution_count": 82,
     "metadata": {},
     "output_type": "execute_result"
    }
   ],
   "source": [
    "pooled_df.shape"
   ]
  },
  {
   "cell_type": "code",
   "execution_count": 90,
   "metadata": {},
   "outputs": [
    {
     "data": {
      "text/plain": [
       "affordable     0.000000\n",
       "inexpensive    0.229579\n",
       "cheaper        0.260831\n",
       "priced         0.283825\n",
       "expensive      0.299281\n",
       "                 ...   \n",
       "displeased     0.763204\n",
       "purgatory      0.764573\n",
       "gravy          0.777284\n",
       "brunch         0.779698\n",
       "schnauzer      0.842928\n",
       "Length: 6000, dtype: float64"
      ]
     },
     "execution_count": 90,
     "metadata": {},
     "output_type": "execute_result"
    }
   ],
   "source": [
    "vsm.neighbors('affordable', pooled_df)"
   ]
  },
  {
   "cell_type": "markdown",
   "metadata": {},
   "source": [
    "This approach, and the associated code, should work generally for all Hugging Face Transformer-based models. Bommasani et al. (2020) provide a lot of guidance when it comes to how the model, the layer choice, and the pooling function interact."
   ]
  },
  {
   "cell_type": "markdown",
   "metadata": {},
   "source": [
    "## The aggregated approach"
   ]
  },
  {
   "cell_type": "markdown",
   "metadata": {},
   "source": [
    "The aggregated is also straightfoward to implement given the above tool. To start, we can create a map from vocabulary items into their sequences of ids:"
   ]
  },
  {
   "cell_type": "code",
   "execution_count": 91,
   "metadata": {},
   "outputs": [],
   "source": [
    "vocab_ids = {w: vsm.hf_encode(w, bert_tokenizer)[0] for w in vocab}"
   ]
  },
  {
   "cell_type": "markdown",
   "metadata": {},
   "source": [
    "Next, let's assume we have a corpus of texts that contain the words of interest:"
   ]
  },
  {
   "cell_type": "code",
   "execution_count": 95,
   "metadata": {},
   "outputs": [],
   "source": [
    "corpus = [\n",
    "    \"This is a sailing example\",\n",
    "    \"It's fun to go sailing!\",\n",
    "    \"We should go sailing.\",\n",
    "    \"I'd like to go sailing and sailing\",\n",
    "    \"This is merely an example\"]"
   ]
  },
  {
   "cell_type": "markdown",
   "metadata": {},
   "source": [
    "The following embeds every corpus example, keeping `layer=1` representations:"
   ]
  },
  {
   "cell_type": "code",
   "execution_count": 97,
   "metadata": {},
   "outputs": [],
   "source": [
    "corpus_ids = [vsm.hf_encode(text, bert_tokenizer)\n",
    "              for text in corpus]"
   ]
  },
  {
   "cell_type": "code",
   "execution_count": 98,
   "metadata": {},
   "outputs": [],
   "source": [
    "corpus_reps = [vsm.hf_represent(ids, bert_model, layer=1)\n",
    "               for ids in corpus_ids]"
   ]
  },
  {
   "cell_type": "markdown",
   "metadata": {},
   "source": [
    "Finally, we define a convenience function for finding all the occurrences of a sublist in a larger list:"
   ]
  },
  {
   "cell_type": "code",
   "execution_count": 99,
   "metadata": {},
   "outputs": [],
   "source": [
    "def find_sublist_indices(sublist, mainlist):\n",
    "    indices = []\n",
    "    length = len(sublist)\n",
    "    for i in range(0, len(mainlist)-length+1):\n",
    "        if mainlist[i: i+length] == sublist:\n",
    "            indices.append((i, i+length))\n",
    "    return indices"
   ]
  },
  {
   "cell_type": "markdown",
   "metadata": {},
   "source": [
    "For example:"
   ]
  },
  {
   "cell_type": "code",
   "execution_count": 100,
   "metadata": {},
   "outputs": [
    {
     "data": {
      "text/plain": [
       "[(0, 2), (4, 6)]"
      ]
     },
     "execution_count": 100,
     "metadata": {},
     "output_type": "execute_result"
    }
   ],
   "source": [
    "find_sublist_indices([1,2], [1, 2, 3, 0, 1, 2, 3])"
   ]
  },
  {
   "cell_type": "markdown",
   "metadata": {},
   "source": [
    "And here's an example using our `vocab_ids` and `corpus`:"
   ]
  },
  {
   "cell_type": "code",
   "execution_count": 101,
   "metadata": {},
   "outputs": [],
   "source": [
    "sailing = vocab_ids['sailing']"
   ]
  },
  {
   "cell_type": "code",
   "execution_count": 103,
   "metadata": {},
   "outputs": [],
   "source": [
    "sailing_reps = []\n",
    "\n",
    "for ids, reps in zip(corpus_ids, corpus_reps):\n",
    "    offsets = find_sublist_indices(sailing, ids.squeeze(0))\n",
    "    for (start, end) in offsets:\n",
    "        pooled = vsm.mean_pooling(reps[:, start: end])\n",
    "        sailing_reps.append(pooled)\n",
    "\n",
    "sailing_rep = torch.mean(torch.cat(sailing_reps), axis=0).squeeze(0)"
   ]
  },
  {
   "cell_type": "code",
   "execution_count": 104,
   "metadata": {},
   "outputs": [
    {
     "data": {
      "text/plain": [
       "torch.Size([768])"
      ]
     },
     "execution_count": 104,
     "metadata": {},
     "output_type": "execute_result"
    }
   ],
   "source": [
    "sailing_rep.shape"
   ]
  },
  {
   "cell_type": "markdown",
   "metadata": {},
   "source": [
    "The above building blocks could be used as the basis for an original system and bakeoff entry for this unit. The major question is probably which data to use for the corpus."
   ]
  },
  {
   "cell_type": "markdown",
   "metadata": {},
   "source": [
    "## Some related work\n",
    "\n",
    "1. [Ethayarajh (2019)](https://www.aclweb.org/anthology/D19-1006/) uses dimensionality reduction techniques (akin to LSA) to derive static representations from contextual models, and explores layer-wise variation in detailed, with findings that are likely to align with your experiences using the above techniques.\n",
    "\n",
    "1. [Akbik et al (2019)](https://www.aclweb.org/anthology/N19-1078/) explore techniques similar to those of Bommasani et al. specifically for the supervised task of named entity recognition.\n",
    "\n",
    "1. [Wang et al. (2020](https://arxiv.org/pdf/1911.02929.pdf) learn static representations from contextual ones using techniques adapted from the word2vec model."
   ]
  }
 ],
 "metadata": {
  "kernelspec": {
   "display_name": "Python 3",
   "language": "python",
   "name": "python3"
  },
  "language_info": {
   "codemirror_mode": {
    "name": "ipython",
    "version": 3
   },
   "file_extension": ".py",
   "mimetype": "text/x-python",
   "name": "python",
   "nbconvert_exporter": "python",
   "pygments_lexer": "ipython3",
   "version": "3.8.5"
  }
 },
 "nbformat": 4,
 "nbformat_minor": 4
}
